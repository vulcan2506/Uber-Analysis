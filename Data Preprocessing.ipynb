{
 "cells": [
  {
   "cell_type": "code",
   "execution_count": 2,
   "id": "b5001c22-33d5-442f-9f98-d2b38d166ea6",
   "metadata": {},
   "outputs": [],
   "source": [
    "import pandas as pd\n",
    "import numpy as np "
   ]
  },
  {
   "cell_type": "code",
   "execution_count": 3,
   "id": "237a2041-d1b5-4457-9ea9-396f53bc1afc",
   "metadata": {},
   "outputs": [],
   "source": [
    "dataset = pd.read_csv(\"UberDataset.csv\")"
   ]
  },
  {
   "cell_type": "code",
   "execution_count": 4,
   "id": "fca3828c-6532-49e0-80f7-40d12aaaac0d",
   "metadata": {},
   "outputs": [
    {
     "data": {
      "text/html": [
       "<div>\n",
       "<style scoped>\n",
       "    .dataframe tbody tr th:only-of-type {\n",
       "        vertical-align: middle;\n",
       "    }\n",
       "\n",
       "    .dataframe tbody tr th {\n",
       "        vertical-align: top;\n",
       "    }\n",
       "\n",
       "    .dataframe thead th {\n",
       "        text-align: right;\n",
       "    }\n",
       "</style>\n",
       "<table border=\"1\" class=\"dataframe\">\n",
       "  <thead>\n",
       "    <tr style=\"text-align: right;\">\n",
       "      <th></th>\n",
       "      <th>START_DATE</th>\n",
       "      <th>END_DATE</th>\n",
       "      <th>CATEGORY</th>\n",
       "      <th>START</th>\n",
       "      <th>STOP</th>\n",
       "      <th>MILES</th>\n",
       "      <th>PURPOSE</th>\n",
       "    </tr>\n",
       "  </thead>\n",
       "  <tbody>\n",
       "    <tr>\n",
       "      <th>0</th>\n",
       "      <td>01-01-2016 21:11</td>\n",
       "      <td>01-01-2016 21:17</td>\n",
       "      <td>Business</td>\n",
       "      <td>Fort Pierce</td>\n",
       "      <td>Fort Pierce</td>\n",
       "      <td>5.1</td>\n",
       "      <td>Meal/Entertain</td>\n",
       "    </tr>\n",
       "    <tr>\n",
       "      <th>1</th>\n",
       "      <td>01-02-2016 01:25</td>\n",
       "      <td>01-02-2016 01:37</td>\n",
       "      <td>Business</td>\n",
       "      <td>Fort Pierce</td>\n",
       "      <td>Fort Pierce</td>\n",
       "      <td>5.0</td>\n",
       "      <td>NaN</td>\n",
       "    </tr>\n",
       "    <tr>\n",
       "      <th>2</th>\n",
       "      <td>01-02-2016 20:25</td>\n",
       "      <td>01-02-2016 20:38</td>\n",
       "      <td>Business</td>\n",
       "      <td>Fort Pierce</td>\n",
       "      <td>Fort Pierce</td>\n",
       "      <td>4.8</td>\n",
       "      <td>Errand/Supplies</td>\n",
       "    </tr>\n",
       "    <tr>\n",
       "      <th>3</th>\n",
       "      <td>01-05-2016 17:31</td>\n",
       "      <td>01-05-2016 17:45</td>\n",
       "      <td>Business</td>\n",
       "      <td>Fort Pierce</td>\n",
       "      <td>Fort Pierce</td>\n",
       "      <td>4.7</td>\n",
       "      <td>Meeting</td>\n",
       "    </tr>\n",
       "    <tr>\n",
       "      <th>4</th>\n",
       "      <td>01-06-2016 14:42</td>\n",
       "      <td>01-06-2016 15:49</td>\n",
       "      <td>Business</td>\n",
       "      <td>Fort Pierce</td>\n",
       "      <td>West Palm Beach</td>\n",
       "      <td>63.7</td>\n",
       "      <td>Customer Visit</td>\n",
       "    </tr>\n",
       "  </tbody>\n",
       "</table>\n",
       "</div>"
      ],
      "text/plain": [
       "         START_DATE          END_DATE  CATEGORY        START             STOP  \\\n",
       "0  01-01-2016 21:11  01-01-2016 21:17  Business  Fort Pierce      Fort Pierce   \n",
       "1  01-02-2016 01:25  01-02-2016 01:37  Business  Fort Pierce      Fort Pierce   \n",
       "2  01-02-2016 20:25  01-02-2016 20:38  Business  Fort Pierce      Fort Pierce   \n",
       "3  01-05-2016 17:31  01-05-2016 17:45  Business  Fort Pierce      Fort Pierce   \n",
       "4  01-06-2016 14:42  01-06-2016 15:49  Business  Fort Pierce  West Palm Beach   \n",
       "\n",
       "   MILES          PURPOSE  \n",
       "0    5.1   Meal/Entertain  \n",
       "1    5.0              NaN  \n",
       "2    4.8  Errand/Supplies  \n",
       "3    4.7          Meeting  \n",
       "4   63.7   Customer Visit  "
      ]
     },
     "execution_count": 4,
     "metadata": {},
     "output_type": "execute_result"
    }
   ],
   "source": [
    "dataset.head()"
   ]
  },
  {
   "cell_type": "code",
   "execution_count": 5,
   "id": "5518ca4c-9974-460f-a6ae-4bb40dcbe285",
   "metadata": {},
   "outputs": [
    {
     "data": {
      "text/plain": [
       "33.817609504415614"
      ]
     },
     "execution_count": 5,
     "metadata": {},
     "output_type": "execute_result"
    }
   ],
   "source": [
    "dataset['MILES'].skew()"
   ]
  },
  {
   "cell_type": "code",
   "execution_count": 97,
   "id": "cf0f8ce6-194b-4cbe-80a8-deb0fc0903a9",
   "metadata": {},
   "outputs": [],
   "source": [
    "from sklearn import preprocessing"
   ]
  },
  {
   "cell_type": "code",
   "execution_count": 98,
   "id": "8c788f73-1b32-427f-bee9-28d0a9f04f96",
   "metadata": {},
   "outputs": [],
   "source": [
    "label_encoder = preprocessing.LabelEncoder()"
   ]
  },
  {
   "cell_type": "code",
   "execution_count": 7,
   "id": "a82dfff6-3fdc-4f35-87bf-d8ec638c8108",
   "metadata": {},
   "outputs": [],
   "source": [
    "import matplotlib.pyplot as plt"
   ]
  },
  {
   "cell_type": "code",
   "execution_count": 8,
   "id": "21ccf2bc-0ed9-4174-b938-f17e82c93639",
   "metadata": {},
   "outputs": [
    {
     "data": {
      "text/plain": [
       "{'whiskers': [<matplotlib.lines.Line2D at 0x7feaaddf3390>,\n",
       "  <matplotlib.lines.Line2D at 0x7feaade00190>],\n",
       " 'caps': [<matplotlib.lines.Line2D at 0x7feaade00e10>,\n",
       "  <matplotlib.lines.Line2D at 0x7feaade01b90>],\n",
       " 'boxes': [<matplotlib.lines.Line2D at 0x7feaaddf2490>],\n",
       " 'medians': [<matplotlib.lines.Line2D at 0x7feaade02610>],\n",
       " 'fliers': [<matplotlib.lines.Line2D at 0x7feaade03150>],\n",
       " 'means': []}"
      ]
     },
     "execution_count": 8,
     "metadata": {},
     "output_type": "execute_result"
    },
    {
     "data": {
      "image/png": "[encoded data removed]",
      "text/plain": [
       "<Figure size 640x480 with 1 Axes>"
      ]
     },
     "metadata": {},
     "output_type": "display_data"
    }
   ],
   "source": [
    "plt.boxplot(dataset['MILES'])"
   ]
  },
  {
   "cell_type": "code",
   "execution_count": 9,
   "id": "f4e93b42-ec04-40e8-8a13-16914a120ad3",
   "metadata": {},
   "outputs": [],
   "source": [
    "percentile25 = dataset['MILES'].quantile(0.25)"
   ]
  },
  {
   "cell_type": "code",
   "execution_count": 10,
   "id": "933fbd9d-de81-4187-8a2b-de266c70b399",
   "metadata": {},
   "outputs": [
    {
     "data": {
      "text/plain": [
       "2.9"
      ]
     },
     "execution_count": 10,
     "metadata": {},
     "output_type": "execute_result"
    }
   ],
   "source": [
    "percentile25"
   ]
  },
  {
   "cell_type": "code",
   "execution_count": 11,
   "id": "e73cb520-dfcb-4562-bc30-90299f5e0f62",
   "metadata": {},
   "outputs": [],
   "source": [
    "percentile75 = dataset['MILES'].quantile(0.75)"
   ]
  },
  {
   "cell_type": "code",
   "execution_count": 12,
   "id": "c685d2c3-4aa2-4d1c-b756-70cec8b2bc89",
   "metadata": {},
   "outputs": [],
   "source": [
    "iqr = percentile75 - percentile25"
   ]
  },
  {
   "cell_type": "code",
   "execution_count": 13,
   "id": "31549556-ca59-4340-9af5-5fd74a647a91",
   "metadata": {},
   "outputs": [],
   "source": [
    "high = percentile75 + 1.5*iqr"
   ]
  },
  {
   "cell_type": "code",
   "execution_count": 14,
   "id": "affc7546-9548-4d73-a860-a93e2dd2d58d",
   "metadata": {},
   "outputs": [
    {
     "data": {
      "text/plain": [
       "21.65"
      ]
     },
     "execution_count": 14,
     "metadata": {},
     "output_type": "execute_result"
    }
   ],
   "source": [
    "high"
   ]
  },
  {
   "cell_type": "code",
   "execution_count": 15,
   "id": "bb51fca3-b64f-4a37-a1d5-7ca273220183",
   "metadata": {},
   "outputs": [],
   "source": [
    "low = percentile25 - 1.5*iqr"
   ]
  },
  {
   "cell_type": "code",
   "execution_count": 16,
   "id": "aa1159db-bd18-42a3-895b-43246694406a",
   "metadata": {},
   "outputs": [
    {
     "data": {
      "text/plain": [
       "-8.35"
      ]
     },
     "execution_count": 16,
     "metadata": {},
     "output_type": "execute_result"
    }
   ],
   "source": [
    "low"
   ]
  },
  {
   "cell_type": "code",
   "execution_count": 17,
   "id": "192d565b-a476-451f-add4-0a8c417af4b6",
   "metadata": {},
   "outputs": [
    {
     "data": {
      "text/plain": [
       "START_DATE      0\n",
       "END_DATE        1\n",
       "CATEGORY        1\n",
       "START           1\n",
       "STOP            1\n",
       "MILES           0\n",
       "PURPOSE       503\n",
       "dtype: int64"
      ]
     },
     "execution_count": 17,
     "metadata": {},
     "output_type": "execute_result"
    }
   ],
   "source": [
    "dataset.isnull().sum()"
   ]
  },
  {
   "cell_type": "code",
   "execution_count": 18,
   "id": "682c6031-4db0-4824-83f7-4f7779a1d00f",
   "metadata": {},
   "outputs": [],
   "source": [
    "new_df = dataset.copy()"
   ]
  },
  {
   "cell_type": "code",
   "execution_count": 20,
   "id": "cd4237b6-8616-45fe-9ed7-43fb9db4aa2f",
   "metadata": {},
   "outputs": [],
   "source": [
    "new_df['MILES'] = np.where(new_df['MILES']>high,high,np.where(new_df['MILES']<low,low,new_df['MILES']))"
   ]
  },
  {
   "cell_type": "code",
   "execution_count": 22,
   "id": "a889251d-b19a-4acb-9b21-341f6a7e9be4",
   "metadata": {},
   "outputs": [
    {
     "data": {
      "text/plain": [
       "1.009273852594551"
      ]
     },
     "execution_count": 22,
     "metadata": {},
     "output_type": "execute_result"
    }
   ],
   "source": [
    "new_df['MILES'].skew()"
   ]
  },
  {
   "cell_type": "code",
   "execution_count": 23,
   "id": "494cde13-d2b6-4f6e-a0e5-fdcb9725b112",
   "metadata": {},
   "outputs": [],
   "source": [
    "new_df.to_csv('UberDataset-1.csv')"
   ]
  },
  {
   "cell_type": "code",
   "execution_count": 24,
   "id": "2b6e4816-1f11-4b23-b77e-224541df2518",
   "metadata": {},
   "outputs": [],
   "source": [
    "import seaborn as sns"
   ]
  },
  {
   "cell_type": "code",
   "execution_count": 25,
   "id": "92819b5e-b8ea-4790-a05a-4b1557f64a86",
   "metadata": {},
   "outputs": [
    {
     "data": {
      "text/plain": [
       "{'whiskers': [<matplotlib.lines.Line2D at 0x7feaa98db650>,\n",
       "  <matplotlib.lines.Line2D at 0x7feaa98e04d0>],\n",
       " 'caps': [<matplotlib.lines.Line2D at 0x7feaa98e1250>,\n",
       "  <matplotlib.lines.Line2D at 0x7feaa98e1e10>],\n",
       " 'boxes': [<matplotlib.lines.Line2D at 0x7feaa98daad0>],\n",
       " 'medians': [<matplotlib.lines.Line2D at 0x7feaa98e2950>],\n",
       " 'fliers': [<matplotlib.lines.Line2D at 0x7feaa98e3490>],\n",
       " 'means': []}"
      ]
     },
     "execution_count": 25,
     "metadata": {},
     "output_type": "execute_result"
    },
    {
     "data": {
      "image/png": "[encoded data removed]",
      "text/plain": [
       "<Figure size 640x480 with 1 Axes>"
      ]
     },
     "metadata": {},
     "output_type": "display_data"
    }
   ],
   "source": [
    "plt.boxplot(new_df['MILES'])"
   ]
  },
  {
   "cell_type": "code",
   "execution_count": null,
   "id": "e19c6075-560f-46d1-9aff-2b1c1cbebb8f",
   "metadata": {},
   "outputs": [],
   "source": []
  }
 ],
 "metadata": {
  "kernelspec": {
   "display_name": "Python 3 (ipykernel)",
   "language": "python",
   "name": "python3"
  },
  "language_info": {
   "codemirror_mode": {
    "name": "ipython",
    "version": 3
   },
   "file_extension": ".py",
   "mimetype": "text/x-python",
   "name": "python",
   "nbconvert_exporter": "python",
   "pygments_lexer": "ipython3",
   "version": "3.11.6"
  }
 },
 "nbformat": 4,
 "nbformat_minor": 5
}
