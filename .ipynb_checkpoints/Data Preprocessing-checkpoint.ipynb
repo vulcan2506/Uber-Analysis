{
 "cells": [
  {
   "cell_type": "code",
   "execution_count": 59,
   "id": "b5001c22-33d5-442f-9f98-d2b38d166ea6",
   "metadata": {},
   "outputs": [],
   "source": [
    "import pandas as pd\n",
    "import numpy as np "
   ]
  },
  {
   "cell_type": "code",
   "execution_count": 93,
   "id": "237a2041-d1b5-4457-9ea9-396f53bc1afc",
   "metadata": {},
   "outputs": [],
   "source": [
    "dataset = pd.read_csv(\"data\")"
   ]
  },
  {
   "cell_type": "code",
   "execution_count": 94,
   "id": "fca3828c-6532-49e0-80f7-40d12aaaac0d",
   "metadata": {},
   "outputs": [
    {
     "data": {
      "text/html": [
       "<div>\n",
       "<style scoped>\n",
       "    .dataframe tbody tr th:only-of-type {\n",
       "        vertical-align: middle;\n",
       "    }\n",
       "\n",
       "    .dataframe tbody tr th {\n",
       "        vertical-align: top;\n",
       "    }\n",
       "\n",
       "    .dataframe thead th {\n",
       "        text-align: right;\n",
       "    }\n",
       "</style>\n",
       "<table border=\"1\" class=\"dataframe\">\n",
       "  <thead>\n",
       "    <tr style=\"text-align: right;\">\n",
       "      <th></th>\n",
       "      <th>Unnamed: 0.1</th>\n",
       "      <th>Unnamed: 0</th>\n",
       "      <th>Restaurant ID</th>\n",
       "      <th>Restaurant Name</th>\n",
       "      <th>Country Code</th>\n",
       "      <th>City</th>\n",
       "      <th>Address</th>\n",
       "      <th>Locality</th>\n",
       "      <th>Locality Verbose</th>\n",
       "      <th>Longitude</th>\n",
       "      <th>...</th>\n",
       "      <th>Currency</th>\n",
       "      <th>Has Table booking</th>\n",
       "      <th>Has Online delivery</th>\n",
       "      <th>Is delivering now</th>\n",
       "      <th>Switch to order menu</th>\n",
       "      <th>Price range</th>\n",
       "      <th>Aggregate rating</th>\n",
       "      <th>Rating color</th>\n",
       "      <th>Rating text</th>\n",
       "      <th>Votes</th>\n",
       "    </tr>\n",
       "  </thead>\n",
       "  <tbody>\n",
       "    <tr>\n",
       "      <th>0</th>\n",
       "      <td>0</td>\n",
       "      <td>0</td>\n",
       "      <td>6317637</td>\n",
       "      <td>Le Petit Souffle</td>\n",
       "      <td>162</td>\n",
       "      <td>Makati City</td>\n",
       "      <td>Third Floor, Century City Mall, Kalayaan Avenu...</td>\n",
       "      <td>Century City Mall, Poblacion, Makati City</td>\n",
       "      <td>Century City Mall, Poblacion, Makati City, Mak...</td>\n",
       "      <td>121.027535</td>\n",
       "      <td>...</td>\n",
       "      <td>Botswana Pula(P)</td>\n",
       "      <td>1</td>\n",
       "      <td>0</td>\n",
       "      <td>0</td>\n",
       "      <td>0</td>\n",
       "      <td>3</td>\n",
       "      <td>4.8</td>\n",
       "      <td>0</td>\n",
       "      <td>1</td>\n",
       "      <td>314.0</td>\n",
       "    </tr>\n",
       "    <tr>\n",
       "      <th>1</th>\n",
       "      <td>1</td>\n",
       "      <td>1</td>\n",
       "      <td>6304287</td>\n",
       "      <td>Izakaya Kikufuji</td>\n",
       "      <td>162</td>\n",
       "      <td>Makati City</td>\n",
       "      <td>Little Tokyo, 2277 Chino Roces Avenue, Legaspi...</td>\n",
       "      <td>Little Tokyo, Legaspi Village, Makati City</td>\n",
       "      <td>Little Tokyo, Legaspi Village, Makati City, Ma...</td>\n",
       "      <td>121.014101</td>\n",
       "      <td>...</td>\n",
       "      <td>Botswana Pula(P)</td>\n",
       "      <td>1</td>\n",
       "      <td>0</td>\n",
       "      <td>0</td>\n",
       "      <td>0</td>\n",
       "      <td>3</td>\n",
       "      <td>4.5</td>\n",
       "      <td>0</td>\n",
       "      <td>1</td>\n",
       "      <td>320.0</td>\n",
       "    </tr>\n",
       "    <tr>\n",
       "      <th>2</th>\n",
       "      <td>2</td>\n",
       "      <td>2</td>\n",
       "      <td>6300002</td>\n",
       "      <td>Heat - Edsa Shangri-La</td>\n",
       "      <td>162</td>\n",
       "      <td>Mandaluyong City</td>\n",
       "      <td>Edsa Shangri-La, 1 Garden Way, Ortigas, Mandal...</td>\n",
       "      <td>Edsa Shangri-La, Ortigas, Mandaluyong City</td>\n",
       "      <td>Edsa Shangri-La, Ortigas, Mandaluyong City, Ma...</td>\n",
       "      <td>121.056831</td>\n",
       "      <td>...</td>\n",
       "      <td>Botswana Pula(P)</td>\n",
       "      <td>1</td>\n",
       "      <td>0</td>\n",
       "      <td>0</td>\n",
       "      <td>0</td>\n",
       "      <td>4</td>\n",
       "      <td>4.4</td>\n",
       "      <td>1</td>\n",
       "      <td>5</td>\n",
       "      <td>270.0</td>\n",
       "    </tr>\n",
       "    <tr>\n",
       "      <th>3</th>\n",
       "      <td>3</td>\n",
       "      <td>3</td>\n",
       "      <td>6318506</td>\n",
       "      <td>Ooma</td>\n",
       "      <td>162</td>\n",
       "      <td>Mandaluyong City</td>\n",
       "      <td>Third Floor, Mega Fashion Hall, SM Megamall, O...</td>\n",
       "      <td>SM Megamall, Ortigas, Mandaluyong City</td>\n",
       "      <td>SM Megamall, Ortigas, Mandaluyong City, Mandal...</td>\n",
       "      <td>121.056475</td>\n",
       "      <td>...</td>\n",
       "      <td>Botswana Pula(P)</td>\n",
       "      <td>0</td>\n",
       "      <td>0</td>\n",
       "      <td>0</td>\n",
       "      <td>0</td>\n",
       "      <td>4</td>\n",
       "      <td>4.9</td>\n",
       "      <td>0</td>\n",
       "      <td>1</td>\n",
       "      <td>320.0</td>\n",
       "    </tr>\n",
       "    <tr>\n",
       "      <th>4</th>\n",
       "      <td>4</td>\n",
       "      <td>4</td>\n",
       "      <td>6314302</td>\n",
       "      <td>Sambo Kojin</td>\n",
       "      <td>162</td>\n",
       "      <td>Mandaluyong City</td>\n",
       "      <td>Third Floor, Mega Atrium, SM Megamall, Ortigas...</td>\n",
       "      <td>SM Megamall, Ortigas, Mandaluyong City</td>\n",
       "      <td>SM Megamall, Ortigas, Mandaluyong City, Mandal...</td>\n",
       "      <td>121.057508</td>\n",
       "      <td>...</td>\n",
       "      <td>Botswana Pula(P)</td>\n",
       "      <td>1</td>\n",
       "      <td>0</td>\n",
       "      <td>0</td>\n",
       "      <td>0</td>\n",
       "      <td>4</td>\n",
       "      <td>4.8</td>\n",
       "      <td>0</td>\n",
       "      <td>1</td>\n",
       "      <td>229.0</td>\n",
       "    </tr>\n",
       "  </tbody>\n",
       "</table>\n",
       "<p>5 rows × 23 columns</p>\n",
       "</div>"
      ],
      "text/plain": [
       "   Unnamed: 0.1  Unnamed: 0  Restaurant ID         Restaurant Name  \\\n",
       "0             0           0        6317637        Le Petit Souffle   \n",
       "1             1           1        6304287        Izakaya Kikufuji   \n",
       "2             2           2        6300002  Heat - Edsa Shangri-La   \n",
       "3             3           3        6318506                    Ooma   \n",
       "4             4           4        6314302             Sambo Kojin   \n",
       "\n",
       "   Country Code              City  \\\n",
       "0           162       Makati City   \n",
       "1           162       Makati City   \n",
       "2           162  Mandaluyong City   \n",
       "3           162  Mandaluyong City   \n",
       "4           162  Mandaluyong City   \n",
       "\n",
       "                                             Address  \\\n",
       "0  Third Floor, Century City Mall, Kalayaan Avenu...   \n",
       "1  Little Tokyo, 2277 Chino Roces Avenue, Legaspi...   \n",
       "2  Edsa Shangri-La, 1 Garden Way, Ortigas, Mandal...   \n",
       "3  Third Floor, Mega Fashion Hall, SM Megamall, O...   \n",
       "4  Third Floor, Mega Atrium, SM Megamall, Ortigas...   \n",
       "\n",
       "                                     Locality  \\\n",
       "0   Century City Mall, Poblacion, Makati City   \n",
       "1  Little Tokyo, Legaspi Village, Makati City   \n",
       "2  Edsa Shangri-La, Ortigas, Mandaluyong City   \n",
       "3      SM Megamall, Ortigas, Mandaluyong City   \n",
       "4      SM Megamall, Ortigas, Mandaluyong City   \n",
       "\n",
       "                                    Locality Verbose   Longitude  ...  \\\n",
       "0  Century City Mall, Poblacion, Makati City, Mak...  121.027535  ...   \n",
       "1  Little Tokyo, Legaspi Village, Makati City, Ma...  121.014101  ...   \n",
       "2  Edsa Shangri-La, Ortigas, Mandaluyong City, Ma...  121.056831  ...   \n",
       "3  SM Megamall, Ortigas, Mandaluyong City, Mandal...  121.056475  ...   \n",
       "4  SM Megamall, Ortigas, Mandaluyong City, Mandal...  121.057508  ...   \n",
       "\n",
       "           Currency Has Table booking  Has Online delivery Is delivering now  \\\n",
       "0  Botswana Pula(P)                 1                    0                 0   \n",
       "1  Botswana Pula(P)                 1                    0                 0   \n",
       "2  Botswana Pula(P)                 1                    0                 0   \n",
       "3  Botswana Pula(P)                 0                    0                 0   \n",
       "4  Botswana Pula(P)                 1                    0                 0   \n",
       "\n",
       "   Switch to order menu  Price range  Aggregate rating  Rating color  \\\n",
       "0                     0            3               4.8             0   \n",
       "1                     0            3               4.5             0   \n",
       "2                     0            4               4.4             1   \n",
       "3                     0            4               4.9             0   \n",
       "4                     0            4               4.8             0   \n",
       "\n",
       "   Rating text  Votes  \n",
       "0            1  314.0  \n",
       "1            1  320.0  \n",
       "2            5  270.0  \n",
       "3            1  320.0  \n",
       "4            1  229.0  \n",
       "\n",
       "[5 rows x 23 columns]"
      ]
     },
     "execution_count": 94,
     "metadata": {},
     "output_type": "execute_result"
    }
   ],
   "source": [
    "dataset.head()"
   ]
  },
  {
   "cell_type": "code",
   "execution_count": 95,
   "id": "5518ca4c-9974-460f-a6ae-4bb40dcbe285",
   "metadata": {},
   "outputs": [
    {
     "data": {
      "text/plain": [
       "1.2284135611838496"
      ]
     },
     "execution_count": 95,
     "metadata": {},
     "output_type": "execute_result"
    }
   ],
   "source": [
    "dataset['Votes'].skew()"
   ]
  },
  {
   "cell_type": "code",
   "execution_count": 96,
   "id": "184409a5-6f5b-47ca-ab81-48d9fa59813d",
   "metadata": {},
   "outputs": [
    {
     "data": {
      "text/plain": [
       "1.3630190478092659"
      ]
     },
     "execution_count": 96,
     "metadata": {},
     "output_type": "execute_result"
    }
   ],
   "source": [
    "dataset['Average Cost for two'].skew()"
   ]
  },
  {
   "cell_type": "code",
   "execution_count": 97,
   "id": "cf0f8ce6-194b-4cbe-80a8-deb0fc0903a9",
   "metadata": {},
   "outputs": [],
   "source": [
    "from sklearn import preprocessing"
   ]
  },
  {
   "cell_type": "code",
   "execution_count": 98,
   "id": "8c788f73-1b32-427f-bee9-28d0a9f04f96",
   "metadata": {},
   "outputs": [],
   "source": [
    "label_encoder = preprocessing.LabelEncoder()"
   ]
  },
  {
   "cell_type": "code",
   "execution_count": 99,
   "id": "39551540-70a9-4b4e-90b9-59e8f26a3993",
   "metadata": {},
   "outputs": [],
   "source": [
    "dataset['Has Table booking'] = label_encoder.fit_transform(dataset['Has Table booking'])"
   ]
  },
  {
   "cell_type": "code",
   "execution_count": 100,
   "id": "ff4e3930-0d76-4813-a04e-10624b3dcedb",
   "metadata": {},
   "outputs": [
    {
     "data": {
      "text/plain": [
       "array([1, 0])"
      ]
     },
     "execution_count": 100,
     "metadata": {},
     "output_type": "execute_result"
    }
   ],
   "source": [
    "dataset['Has Table booking'].unique()"
   ]
  },
  {
   "cell_type": "code",
   "execution_count": 101,
   "id": "e9be62cc-5eb3-48ef-8d02-ae6dafc43cff",
   "metadata": {},
   "outputs": [],
   "source": [
    "dataset['Has Online delivery'] = label_encoder.fit_transform(dataset['Has Online delivery'])\n",
    "dataset['Is delivering now'] = label_encoder.fit_transform(dataset['Is delivering now'])\n",
    "dataset['Switch to order menu'] = label_encoder.fit_transform(dataset['Switch to order menu'])\n",
    "dataset['Rating color'] = label_encoder.fit_transform(dataset['Rating color'])\n",
    "dataset['Rating text'] = label_encoder.fit_transform(dataset['Rating text'])"
   ]
  },
  {
   "cell_type": "code",
   "execution_count": 102,
   "id": "14103e1d-17f1-4bef-8490-c5f23b61cc44",
   "metadata": {},
   "outputs": [
    {
     "data": {
      "text/plain": [
       "array([0, 1])"
      ]
     },
     "execution_count": 102,
     "metadata": {},
     "output_type": "execute_result"
    }
   ],
   "source": [
    "dataset['Has Online delivery'].unique()"
   ]
  },
  {
   "cell_type": "code",
   "execution_count": 103,
   "id": "1e721a25-9227-4de1-bb9b-ddf45e63c29a",
   "metadata": {},
   "outputs": [
    {
     "data": {
      "text/plain": [
       "array([0, 1])"
      ]
     },
     "execution_count": 103,
     "metadata": {},
     "output_type": "execute_result"
    }
   ],
   "source": [
    "dataset['Is delivering now'].unique()"
   ]
  },
  {
   "cell_type": "code",
   "execution_count": 104,
   "id": "236715f5-aba5-4970-adf6-bc2626d9faf6",
   "metadata": {},
   "outputs": [
    {
     "data": {
      "text/plain": [
       "array([0, 1, 5, 2, 4, 3])"
      ]
     },
     "execution_count": 104,
     "metadata": {},
     "output_type": "execute_result"
    }
   ],
   "source": [
    "dataset['Rating color'].unique()"
   ]
  },
  {
   "cell_type": "code",
   "execution_count": 105,
   "id": "a82dfff6-3fdc-4f35-87bf-d8ec638c8108",
   "metadata": {},
   "outputs": [],
   "source": [
    "import matplotlib.pyplot as plt"
   ]
  },
  {
   "cell_type": "code",
   "execution_count": 106,
   "id": "21ccf2bc-0ed9-4174-b938-f17e82c93639",
   "metadata": {},
   "outputs": [
    {
     "data": {
      "text/plain": [
       "{'whiskers': [<matplotlib.lines.Line2D at 0x7f7a33c32250>,\n",
       "  <matplotlib.lines.Line2D at 0x7f7a33c32b90>],\n",
       " 'caps': [<matplotlib.lines.Line2D at 0x7f7a33c334d0>,\n",
       "  <matplotlib.lines.Line2D at 0x7f7a33c33c90>],\n",
       " 'boxes': [<matplotlib.lines.Line2D at 0x7f7a3b7d5a90>],\n",
       " 'medians': [<matplotlib.lines.Line2D at 0x7f7a33c40610>],\n",
       " 'fliers': [<matplotlib.lines.Line2D at 0x7f7a33c40e10>],\n",
       " 'means': []}"
      ]
     },
     "execution_count": 106,
     "metadata": {},
     "output_type": "execute_result"
    },
    {
     "data": {
      "image/png": "[encoded data removed]",
      "text/plain": [
       "<Figure size 640x480 with 1 Axes>"
      ]
     },
     "metadata": {},
     "output_type": "display_data"
    }
   ],
   "source": [
    "plt.boxplot(dataset['Average Cost for two'])"
   ]
  },
  {
   "cell_type": "code",
   "execution_count": 107,
   "id": "1ec61018-c845-48f0-a063-2184ceed1781",
   "metadata": {},
   "outputs": [
    {
     "data": {
      "text/plain": [
       "{'whiskers': [<matplotlib.lines.Line2D at 0x7f7a33c99cd0>,\n",
       "  <matplotlib.lines.Line2D at 0x7f7a33c9a710>],\n",
       " 'caps': [<matplotlib.lines.Line2D at 0x7f7a33c9b050>,\n",
       "  <matplotlib.lines.Line2D at 0x7f7a33c9b950>],\n",
       " 'boxes': [<matplotlib.lines.Line2D at 0x7f7a33c99490>],\n",
       " 'medians': [<matplotlib.lines.Line2D at 0x7f7a33ca4150>],\n",
       " 'fliers': [<matplotlib.lines.Line2D at 0x7f7a33ca4950>],\n",
       " 'means': []}"
      ]
     },
     "execution_count": 107,
     "metadata": {},
     "output_type": "execute_result"
    },
    {
     "data": {
      "image/png": "[encoded data removed]",
      "text/plain": [
       "<Figure size 640x480 with 1 Axes>"
      ]
     },
     "metadata": {},
     "output_type": "display_data"
    }
   ],
   "source": [
    "plt.boxplot(dataset['Votes'])"
   ]
  },
  {
   "cell_type": "code",
   "execution_count": 108,
   "id": "f4e93b42-ec04-40e8-8a13-16914a120ad3",
   "metadata": {},
   "outputs": [],
   "source": [
    "percentile25 = dataset['Votes'].quantile(0.25)"
   ]
  },
  {
   "cell_type": "code",
   "execution_count": 109,
   "id": "933fbd9d-de81-4187-8a2b-de266c70b399",
   "metadata": {},
   "outputs": [
    {
     "data": {
      "text/plain": [
       "5.0"
      ]
     },
     "execution_count": 109,
     "metadata": {},
     "output_type": "execute_result"
    }
   ],
   "source": [
    "percentile25"
   ]
  },
  {
   "cell_type": "code",
   "execution_count": 82,
   "id": "e73cb520-dfcb-4562-bc30-90299f5e0f62",
   "metadata": {},
   "outputs": [],
   "source": [
    "percentile75 = dataset['Votes'].quantile(0.75)"
   ]
  },
  {
   "cell_type": "code",
   "execution_count": 83,
   "id": "c685d2c3-4aa2-4d1c-b756-70cec8b2bc89",
   "metadata": {},
   "outputs": [],
   "source": [
    "iqr = percentile75 - percentile25"
   ]
  },
  {
   "cell_type": "code",
   "execution_count": 84,
   "id": "31549556-ca59-4340-9af5-5fd74a647a91",
   "metadata": {},
   "outputs": [],
   "source": [
    "high = percentile75 + 1.5*iqr"
   ]
  },
  {
   "cell_type": "code",
   "execution_count": 85,
   "id": "affc7546-9548-4d73-a860-a93e2dd2d58d",
   "metadata": {},
   "outputs": [
    {
     "data": {
      "text/plain": [
       "320.0"
      ]
     },
     "execution_count": 85,
     "metadata": {},
     "output_type": "execute_result"
    }
   ],
   "source": [
    "high"
   ]
  },
  {
   "cell_type": "code",
   "execution_count": 86,
   "id": "bb51fca3-b64f-4a37-a1d5-7ca273220183",
   "metadata": {},
   "outputs": [],
   "source": [
    "low = percentile25 - 1.5*iqr"
   ]
  },
  {
   "cell_type": "code",
   "execution_count": 87,
   "id": "aa1159db-bd18-42a3-895b-43246694406a",
   "metadata": {},
   "outputs": [
    {
     "data": {
      "text/plain": [
       "-184.0"
      ]
     },
     "execution_count": 87,
     "metadata": {},
     "output_type": "execute_result"
    }
   ],
   "source": [
    "low"
   ]
  },
  {
   "cell_type": "code",
   "execution_count": 88,
   "id": "192d565b-a476-451f-add4-0a8c417af4b6",
   "metadata": {},
   "outputs": [
    {
     "data": {
      "text/plain": [
       "Unnamed: 0              0\n",
       "Restaurant ID           0\n",
       "Restaurant Name         0\n",
       "Country Code            0\n",
       "City                    0\n",
       "Address                 0\n",
       "Locality                0\n",
       "Locality Verbose        0\n",
       "Longitude               0\n",
       "Latitude                0\n",
       "Cuisines                9\n",
       "Average Cost for two    0\n",
       "Currency                0\n",
       "Has Table booking       0\n",
       "Has Online delivery     0\n",
       "Is delivering now       0\n",
       "Switch to order menu    0\n",
       "Price range             0\n",
       "Aggregate rating        0\n",
       "Rating color            0\n",
       "Rating text             0\n",
       "Votes                   0\n",
       "dtype: int64"
      ]
     },
     "execution_count": 88,
     "metadata": {},
     "output_type": "execute_result"
    }
   ],
   "source": [
    "dataset.isnull().sum()"
   ]
  },
  {
   "cell_type": "code",
   "execution_count": 89,
   "id": "682c6031-4db0-4824-83f7-4f7779a1d00f",
   "metadata": {},
   "outputs": [],
   "source": [
    "new_df = dataset.copy()"
   ]
  },
  {
   "cell_type": "code",
   "execution_count": 90,
   "id": "cd4237b6-8616-45fe-9ed7-43fb9db4aa2f",
   "metadata": {},
   "outputs": [],
   "source": [
    "new_df['Votes'] = np.where(new_df['Votes']>high,high,np.where(new_df['Votes']<low,low,new_df['Votes']))"
   ]
  },
  {
   "cell_type": "code",
   "execution_count": 91,
   "id": "a889251d-b19a-4acb-9b21-341f6a7e9be4",
   "metadata": {},
   "outputs": [
    {
     "data": {
      "text/plain": [
       "1.2284135611838496"
      ]
     },
     "execution_count": 91,
     "metadata": {},
     "output_type": "execute_result"
    }
   ],
   "source": [
    "new_df['Votes'].skew()"
   ]
  },
  {
   "cell_type": "code",
   "execution_count": 92,
   "id": "494cde13-d2b6-4f6e-a0e5-fdcb9725b112",
   "metadata": {},
   "outputs": [],
   "source": [
    "new_df.to_csv('data')"
   ]
  },
  {
   "cell_type": "code",
   "execution_count": 113,
   "id": "2b6e4816-1f11-4b23-b77e-224541df2518",
   "metadata": {},
   "outputs": [],
   "source": [
    "import seaborn as sns"
   ]
  },
  {
   "cell_type": "code",
   "execution_count": 124,
   "id": "c4fd15d5-72f6-4cdb-8f07-0c1b6e8f9188",
   "metadata": {},
   "outputs": [],
   "source": [
    "x = new_df.drop('Unnamed: 0',axis=1)"
   ]
  },
  {
   "cell_type": "code",
   "execution_count": 125,
   "id": "cd0d69ca-868d-44a1-a03a-fd94b80266b0",
   "metadata": {},
   "outputs": [
    {
     "name": "stderr",
     "output_type": "stream",
     "text": [
      "/tmp/ipykernel_10870/2976989851.py:1: FutureWarning: The default value of numeric_only in DataFrame.corr is deprecated. In a future version, it will default to False. Select only valid columns or specify the value of numeric_only to silence this warning.\n",
      "  x.corr()\n"
     ]
    },
    {
     "data": {
      "text/html": [
       "<div>\n",
       "<style scoped>\n",
       "    .dataframe tbody tr th:only-of-type {\n",
       "        vertical-align: middle;\n",
       "    }\n",
       "\n",
       "    .dataframe tbody tr th {\n",
       "        vertical-align: top;\n",
       "    }\n",
       "\n",
       "    .dataframe thead th {\n",
       "        text-align: right;\n",
       "    }\n",
       "</style>\n",
       "<table border=\"1\" class=\"dataframe\">\n",
       "  <thead>\n",
       "    <tr style=\"text-align: right;\">\n",
       "      <th></th>\n",
       "      <th>Restaurant ID</th>\n",
       "      <th>Country Code</th>\n",
       "      <th>Longitude</th>\n",
       "      <th>Latitude</th>\n",
       "      <th>Average Cost for two</th>\n",
       "      <th>Has Table booking</th>\n",
       "      <th>Has Online delivery</th>\n",
       "      <th>Is delivering now</th>\n",
       "      <th>Switch to order menu</th>\n",
       "      <th>Price range</th>\n",
       "      <th>Aggregate rating</th>\n",
       "      <th>Rating color</th>\n",
       "      <th>Rating text</th>\n",
       "      <th>Votes</th>\n",
       "    </tr>\n",
       "  </thead>\n",
       "  <tbody>\n",
       "    <tr>\n",
       "      <th>Restaurant ID</th>\n",
       "      <td>1.000000</td>\n",
       "      <td>0.148471</td>\n",
       "      <td>-0.226081</td>\n",
       "      <td>-0.052081</td>\n",
       "      <td>-0.193255</td>\n",
       "      <td>-0.110071</td>\n",
       "      <td>-0.085089</td>\n",
       "      <td>0.012548</td>\n",
       "      <td>NaN</td>\n",
       "      <td>-0.134540</td>\n",
       "      <td>-0.326212</td>\n",
       "      <td>0.130540</td>\n",
       "      <td>0.251114</td>\n",
       "      <td>-0.241987</td>\n",
       "    </tr>\n",
       "    <tr>\n",
       "      <th>Country Code</th>\n",
       "      <td>0.148471</td>\n",
       "      <td>1.000000</td>\n",
       "      <td>-0.698299</td>\n",
       "      <td>0.019792</td>\n",
       "      <td>-0.270794</td>\n",
       "      <td>-0.061682</td>\n",
       "      <td>-0.154605</td>\n",
       "      <td>-0.018291</td>\n",
       "      <td>NaN</td>\n",
       "      <td>0.243327</td>\n",
       "      <td>0.282189</td>\n",
       "      <td>-0.187174</td>\n",
       "      <td>0.222685</td>\n",
       "      <td>0.345872</td>\n",
       "    </tr>\n",
       "    <tr>\n",
       "      <th>Longitude</th>\n",
       "      <td>-0.226081</td>\n",
       "      <td>-0.698299</td>\n",
       "      <td>1.000000</td>\n",
       "      <td>0.043207</td>\n",
       "      <td>0.276279</td>\n",
       "      <td>0.100488</td>\n",
       "      <td>0.178757</td>\n",
       "      <td>0.018787</td>\n",
       "      <td>NaN</td>\n",
       "      <td>-0.078939</td>\n",
       "      <td>-0.116818</td>\n",
       "      <td>0.059979</td>\n",
       "      <td>-0.181466</td>\n",
       "      <td>-0.184991</td>\n",
       "    </tr>\n",
       "    <tr>\n",
       "      <th>Latitude</th>\n",
       "      <td>-0.052081</td>\n",
       "      <td>0.019792</td>\n",
       "      <td>0.043207</td>\n",
       "      <td>1.000000</td>\n",
       "      <td>-0.020030</td>\n",
       "      <td>0.054658</td>\n",
       "      <td>0.118722</td>\n",
       "      <td>0.015001</td>\n",
       "      <td>NaN</td>\n",
       "      <td>-0.166688</td>\n",
       "      <td>0.000516</td>\n",
       "      <td>0.042590</td>\n",
       "      <td>-0.129447</td>\n",
       "      <td>-0.015300</td>\n",
       "    </tr>\n",
       "    <tr>\n",
       "      <th>Average Cost for two</th>\n",
       "      <td>-0.193255</td>\n",
       "      <td>-0.270794</td>\n",
       "      <td>0.276279</td>\n",
       "      <td>-0.020030</td>\n",
       "      <td>1.000000</td>\n",
       "      <td>0.634551</td>\n",
       "      <td>0.168212</td>\n",
       "      <td>0.020751</td>\n",
       "      <td>NaN</td>\n",
       "      <td>0.715833</td>\n",
       "      <td>0.284995</td>\n",
       "      <td>-0.030055</td>\n",
       "      <td>0.044785</td>\n",
       "      <td>0.362193</td>\n",
       "    </tr>\n",
       "    <tr>\n",
       "      <th>Has Table booking</th>\n",
       "      <td>-0.110071</td>\n",
       "      <td>-0.061682</td>\n",
       "      <td>0.100488</td>\n",
       "      <td>0.054658</td>\n",
       "      <td>0.634551</td>\n",
       "      <td>1.000000</td>\n",
       "      <td>0.101224</td>\n",
       "      <td>-0.016816</td>\n",
       "      <td>NaN</td>\n",
       "      <td>0.501925</td>\n",
       "      <td>0.189998</td>\n",
       "      <td>-0.021365</td>\n",
       "      <td>0.044043</td>\n",
       "      <td>0.285678</td>\n",
       "    </tr>\n",
       "    <tr>\n",
       "      <th>Has Online delivery</th>\n",
       "      <td>-0.085089</td>\n",
       "      <td>-0.154605</td>\n",
       "      <td>0.178757</td>\n",
       "      <td>0.118722</td>\n",
       "      <td>0.168212</td>\n",
       "      <td>0.101224</td>\n",
       "      <td>1.000000</td>\n",
       "      <td>0.101730</td>\n",
       "      <td>NaN</td>\n",
       "      <td>0.077918</td>\n",
       "      <td>0.225699</td>\n",
       "      <td>0.011477</td>\n",
       "      <td>-0.080937</td>\n",
       "      <td>0.189954</td>\n",
       "    </tr>\n",
       "    <tr>\n",
       "      <th>Is delivering now</th>\n",
       "      <td>0.012548</td>\n",
       "      <td>-0.018291</td>\n",
       "      <td>0.018787</td>\n",
       "      <td>0.015001</td>\n",
       "      <td>0.020751</td>\n",
       "      <td>-0.016816</td>\n",
       "      <td>0.101730</td>\n",
       "      <td>1.000000</td>\n",
       "      <td>NaN</td>\n",
       "      <td>0.010940</td>\n",
       "      <td>0.019180</td>\n",
       "      <td>0.001886</td>\n",
       "      <td>-0.031970</td>\n",
       "      <td>0.014390</td>\n",
       "    </tr>\n",
       "    <tr>\n",
       "      <th>Switch to order menu</th>\n",
       "      <td>NaN</td>\n",
       "      <td>NaN</td>\n",
       "      <td>NaN</td>\n",
       "      <td>NaN</td>\n",
       "      <td>NaN</td>\n",
       "      <td>NaN</td>\n",
       "      <td>NaN</td>\n",
       "      <td>NaN</td>\n",
       "      <td>NaN</td>\n",
       "      <td>NaN</td>\n",
       "      <td>NaN</td>\n",
       "      <td>NaN</td>\n",
       "      <td>NaN</td>\n",
       "      <td>NaN</td>\n",
       "    </tr>\n",
       "    <tr>\n",
       "      <th>Price range</th>\n",
       "      <td>-0.134540</td>\n",
       "      <td>0.243327</td>\n",
       "      <td>-0.078939</td>\n",
       "      <td>-0.166688</td>\n",
       "      <td>0.715833</td>\n",
       "      <td>0.501925</td>\n",
       "      <td>0.077918</td>\n",
       "      <td>0.010940</td>\n",
       "      <td>NaN</td>\n",
       "      <td>1.000000</td>\n",
       "      <td>0.437944</td>\n",
       "      <td>-0.140468</td>\n",
       "      <td>0.164242</td>\n",
       "      <td>0.507022</td>\n",
       "    </tr>\n",
       "    <tr>\n",
       "      <th>Aggregate rating</th>\n",
       "      <td>-0.326212</td>\n",
       "      <td>0.282189</td>\n",
       "      <td>-0.116818</td>\n",
       "      <td>0.000516</td>\n",
       "      <td>0.284995</td>\n",
       "      <td>0.189998</td>\n",
       "      <td>0.225699</td>\n",
       "      <td>0.019180</td>\n",
       "      <td>NaN</td>\n",
       "      <td>0.437944</td>\n",
       "      <td>1.000000</td>\n",
       "      <td>-0.367054</td>\n",
       "      <td>-0.182662</td>\n",
       "      <td>0.581205</td>\n",
       "    </tr>\n",
       "    <tr>\n",
       "      <th>Rating color</th>\n",
       "      <td>0.130540</td>\n",
       "      <td>-0.187174</td>\n",
       "      <td>0.059979</td>\n",
       "      <td>0.042590</td>\n",
       "      <td>-0.030055</td>\n",
       "      <td>-0.021365</td>\n",
       "      <td>0.011477</td>\n",
       "      <td>0.001886</td>\n",
       "      <td>NaN</td>\n",
       "      <td>-0.140468</td>\n",
       "      <td>-0.367054</td>\n",
       "      <td>1.000000</td>\n",
       "      <td>0.163717</td>\n",
       "      <td>-0.135371</td>\n",
       "    </tr>\n",
       "    <tr>\n",
       "      <th>Rating text</th>\n",
       "      <td>0.251114</td>\n",
       "      <td>0.222685</td>\n",
       "      <td>-0.181466</td>\n",
       "      <td>-0.129447</td>\n",
       "      <td>0.044785</td>\n",
       "      <td>0.044043</td>\n",
       "      <td>-0.080937</td>\n",
       "      <td>-0.031970</td>\n",
       "      <td>NaN</td>\n",
       "      <td>0.164242</td>\n",
       "      <td>-0.182662</td>\n",
       "      <td>0.163717</td>\n",
       "      <td>1.000000</td>\n",
       "      <td>0.300611</td>\n",
       "    </tr>\n",
       "    <tr>\n",
       "      <th>Votes</th>\n",
       "      <td>-0.241987</td>\n",
       "      <td>0.345872</td>\n",
       "      <td>-0.184991</td>\n",
       "      <td>-0.015300</td>\n",
       "      <td>0.362193</td>\n",
       "      <td>0.285678</td>\n",
       "      <td>0.189954</td>\n",
       "      <td>0.014390</td>\n",
       "      <td>NaN</td>\n",
       "      <td>0.507022</td>\n",
       "      <td>0.581205</td>\n",
       "      <td>-0.135371</td>\n",
       "      <td>0.300611</td>\n",
       "      <td>1.000000</td>\n",
       "    </tr>\n",
       "  </tbody>\n",
       "</table>\n",
       "</div>"
      ],
      "text/plain": [
       "                      Restaurant ID  Country Code  Longitude  Latitude  \\\n",
       "Restaurant ID              1.000000      0.148471  -0.226081 -0.052081   \n",
       "Country Code               0.148471      1.000000  -0.698299  0.019792   \n",
       "Longitude                 -0.226081     -0.698299   1.000000  0.043207   \n",
       "Latitude                  -0.052081      0.019792   0.043207  1.000000   \n",
       "Average Cost for two      -0.193255     -0.270794   0.276279 -0.020030   \n",
       "Has Table booking         -0.110071     -0.061682   0.100488  0.054658   \n",
       "Has Online delivery       -0.085089     -0.154605   0.178757  0.118722   \n",
       "Is delivering now          0.012548     -0.018291   0.018787  0.015001   \n",
       "Switch to order menu            NaN           NaN        NaN       NaN   \n",
       "Price range               -0.134540      0.243327  -0.078939 -0.166688   \n",
       "Aggregate rating          -0.326212      0.282189  -0.116818  0.000516   \n",
       "Rating color               0.130540     -0.187174   0.059979  0.042590   \n",
       "Rating text                0.251114      0.222685  -0.181466 -0.129447   \n",
       "Votes                     -0.241987      0.345872  -0.184991 -0.015300   \n",
       "\n",
       "                      Average Cost for two  Has Table booking  \\\n",
       "Restaurant ID                    -0.193255          -0.110071   \n",
       "Country Code                     -0.270794          -0.061682   \n",
       "Longitude                         0.276279           0.100488   \n",
       "Latitude                         -0.020030           0.054658   \n",
       "Average Cost for two              1.000000           0.634551   \n",
       "Has Table booking                 0.634551           1.000000   \n",
       "Has Online delivery               0.168212           0.101224   \n",
       "Is delivering now                 0.020751          -0.016816   \n",
       "Switch to order menu                   NaN                NaN   \n",
       "Price range                       0.715833           0.501925   \n",
       "Aggregate rating                  0.284995           0.189998   \n",
       "Rating color                     -0.030055          -0.021365   \n",
       "Rating text                       0.044785           0.044043   \n",
       "Votes                             0.362193           0.285678   \n",
       "\n",
       "                      Has Online delivery  Is delivering now  \\\n",
       "Restaurant ID                   -0.085089           0.012548   \n",
       "Country Code                    -0.154605          -0.018291   \n",
       "Longitude                        0.178757           0.018787   \n",
       "Latitude                         0.118722           0.015001   \n",
       "Average Cost for two             0.168212           0.020751   \n",
       "Has Table booking                0.101224          -0.016816   \n",
       "Has Online delivery              1.000000           0.101730   \n",
       "Is delivering now                0.101730           1.000000   \n",
       "Switch to order menu                  NaN                NaN   \n",
       "Price range                      0.077918           0.010940   \n",
       "Aggregate rating                 0.225699           0.019180   \n",
       "Rating color                     0.011477           0.001886   \n",
       "Rating text                     -0.080937          -0.031970   \n",
       "Votes                            0.189954           0.014390   \n",
       "\n",
       "                      Switch to order menu  Price range  Aggregate rating  \\\n",
       "Restaurant ID                          NaN    -0.134540         -0.326212   \n",
       "Country Code                           NaN     0.243327          0.282189   \n",
       "Longitude                              NaN    -0.078939         -0.116818   \n",
       "Latitude                               NaN    -0.166688          0.000516   \n",
       "Average Cost for two                   NaN     0.715833          0.284995   \n",
       "Has Table booking                      NaN     0.501925          0.189998   \n",
       "Has Online delivery                    NaN     0.077918          0.225699   \n",
       "Is delivering now                      NaN     0.010940          0.019180   \n",
       "Switch to order menu                   NaN          NaN               NaN   \n",
       "Price range                            NaN     1.000000          0.437944   \n",
       "Aggregate rating                       NaN     0.437944          1.000000   \n",
       "Rating color                           NaN    -0.140468         -0.367054   \n",
       "Rating text                            NaN     0.164242         -0.182662   \n",
       "Votes                                  NaN     0.507022          0.581205   \n",
       "\n",
       "                      Rating color  Rating text     Votes  \n",
       "Restaurant ID             0.130540     0.251114 -0.241987  \n",
       "Country Code             -0.187174     0.222685  0.345872  \n",
       "Longitude                 0.059979    -0.181466 -0.184991  \n",
       "Latitude                  0.042590    -0.129447 -0.015300  \n",
       "Average Cost for two     -0.030055     0.044785  0.362193  \n",
       "Has Table booking        -0.021365     0.044043  0.285678  \n",
       "Has Online delivery       0.011477    -0.080937  0.189954  \n",
       "Is delivering now         0.001886    -0.031970  0.014390  \n",
       "Switch to order menu           NaN          NaN       NaN  \n",
       "Price range              -0.140468     0.164242  0.507022  \n",
       "Aggregate rating         -0.367054    -0.182662  0.581205  \n",
       "Rating color              1.000000     0.163717 -0.135371  \n",
       "Rating text               0.163717     1.000000  0.300611  \n",
       "Votes                    -0.135371     0.300611  1.000000  "
      ]
     },
     "execution_count": 125,
     "metadata": {},
     "output_type": "execute_result"
    }
   ],
   "source": [
    "x.corr()"
   ]
  },
  {
   "cell_type": "code",
   "execution_count": null,
   "id": "92819b5e-b8ea-4790-a05a-4b1557f64a86",
   "metadata": {},
   "outputs": [],
   "source": []
  }
 ],
 "metadata": {
  "kernelspec": {
   "display_name": "Python 3 (ipykernel)",
   "language": "python",
   "name": "python3"
  },
  "language_info": {
   "codemirror_mode": {
    "name": "ipython",
    "version": 3
   },
   "file_extension": ".py",
   "mimetype": "text/x-python",
   "name": "python",
   "nbconvert_exporter": "python",
   "pygments_lexer": "ipython3",
   "version": "3.11.6"
  }
 },
 "nbformat": 4,
 "nbformat_minor": 5
}
